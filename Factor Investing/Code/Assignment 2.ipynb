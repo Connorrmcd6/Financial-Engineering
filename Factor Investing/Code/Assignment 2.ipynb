{
 "cells": [
  {
   "cell_type": "code",
   "execution_count": 1,
   "id": "6616f2fa",
   "metadata": {
    "scrolled": false
   },
   "outputs": [],
   "source": [
    "import pandas as pd\n",
    "import numpy as np\n",
    "import matplotlib.pyplot as plt\n",
    "from sklearn.decomposition import PCA\n",
    "import yfinance as yf\n",
    "import statsmodels.api as sm\n",
    "%matplotlib inline"
   ]
  },
  {
   "cell_type": "code",
   "execution_count": 2,
   "id": "5bc2f8d1",
   "metadata": {},
   "outputs": [],
   "source": [
    "np.random.seed(2021)\n",
    "sample = np.random.multivariate_normal(np.array([2,3,0]),np.array([[10,7,5],[7,6,4],[5,4,3]]),1200).T\n",
    "xdata = sample[0,:]\n",
    "ydata = sample[1,:]\n",
    "zdata = sample[2,:]"
   ]
  },
  {
   "cell_type": "code",
   "execution_count": 3,
   "id": "7621c2c6",
   "metadata": {},
   "outputs": [],
   "source": [
    "# sample = pd.DataFrame(sample.T)\n",
    "# sample.columns = ['xdata', 'ydata', 'zdata']\n",
    "# print(sample.to_latex(index=True))"
   ]
  },
  {
   "cell_type": "code",
   "execution_count": 4,
   "id": "33d506fd",
   "metadata": {},
   "outputs": [],
   "source": [
    "mean_vector = sample.mean(axis=1)"
   ]
  },
  {
   "cell_type": "code",
   "execution_count": 5,
   "id": "c9720a53",
   "metadata": {
    "scrolled": true
   },
   "outputs": [],
   "source": [
    "Y = sample.T - mean_vector"
   ]
  },
  {
   "cell_type": "code",
   "execution_count": 6,
   "id": "d5903d0e",
   "metadata": {},
   "outputs": [],
   "source": [
    "cov_matrix = np.cov(Y.T)\n",
    "cov = pd.DataFrame(cov_matrix)\n",
    "cov.index = ['xdata', 'ydata', 'zdata']\n",
    "cov.columns = ['xdata', 'ydata', 'zdata']"
   ]
  },
  {
   "cell_type": "code",
   "execution_count": 7,
   "id": "f4f9554a",
   "metadata": {},
   "outputs": [],
   "source": [
    "eigen_values, eigen_vectors = np.linalg.eig(cov_matrix)"
   ]
  },
  {
   "cell_type": "code",
   "execution_count": 8,
   "id": "7bc4ab05",
   "metadata": {},
   "outputs": [
    {
     "data": {
      "text/plain": [
       "array([18.53270615,  0.73384029,  0.21019128])"
      ]
     },
     "execution_count": 8,
     "metadata": {},
     "output_type": "execute_result"
    }
   ],
   "source": [
    "eigen_values"
   ]
  },
  {
   "cell_type": "code",
   "execution_count": 9,
   "id": "ec485e8b",
   "metadata": {},
   "outputs": [
    {
     "data": {
      "text/plain": [
       "array([[ 0.73666019,  0.663357  , -0.13148863],\n",
       "       [ 0.55207529, -0.70219784, -0.44958989],\n",
       "       [ 0.39056963, -0.25860335,  0.8835042 ]])"
      ]
     },
     "execution_count": 9,
     "metadata": {},
     "output_type": "execute_result"
    }
   ],
   "source": [
    "eigen_vectors"
   ]
  },
  {
   "cell_type": "code",
   "execution_count": 10,
   "id": "b65d28cb",
   "metadata": {},
   "outputs": [
    {
     "name": "stdout",
     "output_type": "stream",
     "text": [
      "-0.0\n",
      "0.0\n",
      "0.0\n"
     ]
    }
   ],
   "source": [
    "print(round(eigen_vectors[:,0].dot(eigen_vectors[:,1]),5))\n",
    "print(round(eigen_vectors[:,1].dot(eigen_vectors[:,2]),5))\n",
    "print(round(eigen_vectors[:,2].dot(eigen_vectors[:,0]),5))"
   ]
  },
  {
   "cell_type": "code",
   "execution_count": 11,
   "id": "1b2cf383",
   "metadata": {},
   "outputs": [
    {
     "name": "stdout",
     "output_type": "stream",
     "text": [
      "0.0\n",
      "5986.07325\n"
     ]
    }
   ],
   "source": [
    "print(round(eigen_vectors[:,2].dot(eigen_vectors[:,0]),5))\n",
    "print(round(xdata.dot(zdata),5))"
   ]
  },
  {
   "cell_type": "code",
   "execution_count": null,
   "id": "a50a926d",
   "metadata": {},
   "outputs": [],
   "source": []
  },
  {
   "cell_type": "code",
   "execution_count": null,
   "id": "32d4fff9",
   "metadata": {},
   "outputs": [],
   "source": []
  },
  {
   "cell_type": "code",
   "execution_count": 12,
   "id": "f538896e",
   "metadata": {},
   "outputs": [
    {
     "name": "stdout",
     "output_type": "stream",
     "text": [
      "[*********************100%***********************]  6 of 6 completed\n"
     ]
    }
   ],
   "source": [
    "tickers_list = ['BTI.JO', 'SBK.JO', 'CPI.JO', 'KIO.JO', 'CL=F', '^J203.JO']\n",
    "data = yf.download(tickers_list,'2016-1-1')['Adj Close']\n",
    "data = data.dropna()"
   ]
  },
  {
   "cell_type": "code",
   "execution_count": 13,
   "id": "32955e58",
   "metadata": {
    "scrolled": true
   },
   "outputs": [
    {
     "data": {
      "text/html": [
       "<div>\n",
       "<style scoped>\n",
       "    .dataframe tbody tr th:only-of-type {\n",
       "        vertical-align: middle;\n",
       "    }\n",
       "\n",
       "    .dataframe tbody tr th {\n",
       "        vertical-align: top;\n",
       "    }\n",
       "\n",
       "    .dataframe thead th {\n",
       "        text-align: right;\n",
       "    }\n",
       "</style>\n",
       "<table border=\"1\" class=\"dataframe\">\n",
       "  <thead>\n",
       "    <tr style=\"text-align: right;\">\n",
       "      <th></th>\n",
       "      <th>BTI.JO</th>\n",
       "      <th>CL=F</th>\n",
       "      <th>CPI.JO</th>\n",
       "      <th>KIO.JO</th>\n",
       "      <th>SBK.JO</th>\n",
       "      <th>^J203.JO</th>\n",
       "    </tr>\n",
       "    <tr>\n",
       "      <th>Date</th>\n",
       "      <th></th>\n",
       "      <th></th>\n",
       "      <th></th>\n",
       "      <th></th>\n",
       "      <th></th>\n",
       "      <th></th>\n",
       "    </tr>\n",
       "  </thead>\n",
       "  <tbody>\n",
       "    <tr>\n",
       "      <th>2016-01-04</th>\n",
       "      <td>69973.148438</td>\n",
       "      <td>36.759998</td>\n",
       "      <td>48771.417969</td>\n",
       "      <td>2100.726562</td>\n",
       "      <td>8153.295898</td>\n",
       "      <td>49316.609375</td>\n",
       "    </tr>\n",
       "    <tr>\n",
       "      <th>2016-01-05</th>\n",
       "      <td>69754.625000</td>\n",
       "      <td>35.970001</td>\n",
       "      <td>48219.292969</td>\n",
       "      <td>2078.305176</td>\n",
       "      <td>8180.396484</td>\n",
       "      <td>49599.718750</td>\n",
       "    </tr>\n",
       "    <tr>\n",
       "      <th>2016-01-06</th>\n",
       "      <td>70328.562500</td>\n",
       "      <td>33.970001</td>\n",
       "      <td>47915.625000</td>\n",
       "      <td>1955.273926</td>\n",
       "      <td>8129.859375</td>\n",
       "      <td>49082.289062</td>\n",
       "    </tr>\n",
       "    <tr>\n",
       "      <th>2016-01-07</th>\n",
       "      <td>70594.898438</td>\n",
       "      <td>33.270000</td>\n",
       "      <td>47851.210938</td>\n",
       "      <td>1810.970947</td>\n",
       "      <td>7885.963867</td>\n",
       "      <td>48052.781250</td>\n",
       "    </tr>\n",
       "    <tr>\n",
       "      <th>2016-01-08</th>\n",
       "      <td>70735.070312</td>\n",
       "      <td>33.160000</td>\n",
       "      <td>47120.558594</td>\n",
       "      <td>1799.473022</td>\n",
       "      <td>7646.462891</td>\n",
       "      <td>48104.679688</td>\n",
       "    </tr>\n",
       "  </tbody>\n",
       "</table>\n",
       "</div>"
      ],
      "text/plain": [
       "                  BTI.JO       CL=F        CPI.JO       KIO.JO       SBK.JO  \\\n",
       "Date                                                                          \n",
       "2016-01-04  69973.148438  36.759998  48771.417969  2100.726562  8153.295898   \n",
       "2016-01-05  69754.625000  35.970001  48219.292969  2078.305176  8180.396484   \n",
       "2016-01-06  70328.562500  33.970001  47915.625000  1955.273926  8129.859375   \n",
       "2016-01-07  70594.898438  33.270000  47851.210938  1810.970947  7885.963867   \n",
       "2016-01-08  70735.070312  33.160000  47120.558594  1799.473022  7646.462891   \n",
       "\n",
       "                ^J203.JO  \n",
       "Date                      \n",
       "2016-01-04  49316.609375  \n",
       "2016-01-05  49599.718750  \n",
       "2016-01-06  49082.289062  \n",
       "2016-01-07  48052.781250  \n",
       "2016-01-08  48104.679688  "
      ]
     },
     "execution_count": 13,
     "metadata": {},
     "output_type": "execute_result"
    }
   ],
   "source": [
    "data.head()"
   ]
  },
  {
   "cell_type": "code",
   "execution_count": 14,
   "id": "95aabe05",
   "metadata": {
    "scrolled": false
   },
   "outputs": [
    {
     "data": {
      "text/html": [
       "<div>\n",
       "<style scoped>\n",
       "    .dataframe tbody tr th:only-of-type {\n",
       "        vertical-align: middle;\n",
       "    }\n",
       "\n",
       "    .dataframe tbody tr th {\n",
       "        vertical-align: top;\n",
       "    }\n",
       "\n",
       "    .dataframe thead th {\n",
       "        text-align: right;\n",
       "    }\n",
       "</style>\n",
       "<table border=\"1\" class=\"dataframe\">\n",
       "  <thead>\n",
       "    <tr style=\"text-align: right;\">\n",
       "      <th></th>\n",
       "      <th>BTI.JO</th>\n",
       "      <th>CL=F</th>\n",
       "      <th>CPI.JO</th>\n",
       "      <th>KIO.JO</th>\n",
       "      <th>SBK.JO</th>\n",
       "      <th>^J203.JO</th>\n",
       "    </tr>\n",
       "    <tr>\n",
       "      <th>Date</th>\n",
       "      <th></th>\n",
       "      <th></th>\n",
       "      <th></th>\n",
       "      <th></th>\n",
       "      <th></th>\n",
       "      <th></th>\n",
       "    </tr>\n",
       "  </thead>\n",
       "  <tbody>\n",
       "    <tr>\n",
       "      <th>2016-01-05</th>\n",
       "      <td>-0.003123</td>\n",
       "      <td>-0.021491</td>\n",
       "      <td>-0.011321</td>\n",
       "      <td>-0.010673</td>\n",
       "      <td>0.003324</td>\n",
       "      <td>0.005741</td>\n",
       "    </tr>\n",
       "    <tr>\n",
       "      <th>2016-01-06</th>\n",
       "      <td>0.008228</td>\n",
       "      <td>-0.055602</td>\n",
       "      <td>-0.006298</td>\n",
       "      <td>-0.059198</td>\n",
       "      <td>-0.006178</td>\n",
       "      <td>-0.010432</td>\n",
       "    </tr>\n",
       "    <tr>\n",
       "      <th>2016-01-07</th>\n",
       "      <td>0.003787</td>\n",
       "      <td>-0.020606</td>\n",
       "      <td>-0.001344</td>\n",
       "      <td>-0.073802</td>\n",
       "      <td>-0.030000</td>\n",
       "      <td>-0.020975</td>\n",
       "    </tr>\n",
       "    <tr>\n",
       "      <th>2016-01-08</th>\n",
       "      <td>0.001986</td>\n",
       "      <td>-0.003306</td>\n",
       "      <td>-0.015269</td>\n",
       "      <td>-0.006349</td>\n",
       "      <td>-0.030371</td>\n",
       "      <td>0.001080</td>\n",
       "    </tr>\n",
       "    <tr>\n",
       "      <th>2016-01-11</th>\n",
       "      <td>0.031172</td>\n",
       "      <td>-0.052774</td>\n",
       "      <td>-0.043081</td>\n",
       "      <td>-0.070287</td>\n",
       "      <td>-0.042146</td>\n",
       "      <td>0.004532</td>\n",
       "    </tr>\n",
       "  </tbody>\n",
       "</table>\n",
       "</div>"
      ],
      "text/plain": [
       "              BTI.JO      CL=F    CPI.JO    KIO.JO    SBK.JO  ^J203.JO\n",
       "Date                                                                  \n",
       "2016-01-05 -0.003123 -0.021491 -0.011321 -0.010673  0.003324  0.005741\n",
       "2016-01-06  0.008228 -0.055602 -0.006298 -0.059198 -0.006178 -0.010432\n",
       "2016-01-07  0.003787 -0.020606 -0.001344 -0.073802 -0.030000 -0.020975\n",
       "2016-01-08  0.001986 -0.003306 -0.015269 -0.006349 -0.030371  0.001080\n",
       "2016-01-11  0.031172 -0.052774 -0.043081 -0.070287 -0.042146  0.004532"
      ]
     },
     "execution_count": 14,
     "metadata": {},
     "output_type": "execute_result"
    }
   ],
   "source": [
    "rates = data.pct_change()\n",
    "rates = rates.iloc[1:,:]\n",
    "rates.head()"
   ]
  },
  {
   "cell_type": "code",
   "execution_count": 15,
   "id": "73167230",
   "metadata": {},
   "outputs": [
    {
     "data": {
      "text/plain": [
       "array([-3.72033195e-05, -1.55474201e-03,  1.19572649e-03,  2.83327409e-03,\n",
       "        6.02287316e-04,  2.93896052e-04])"
      ]
     },
     "execution_count": 15,
     "metadata": {},
     "output_type": "execute_result"
    }
   ],
   "source": [
    "mean_vector = rates.values.T.mean(axis=1)\n",
    "mean_vector"
   ]
  },
  {
   "cell_type": "code",
   "execution_count": 16,
   "id": "aa983442",
   "metadata": {},
   "outputs": [],
   "source": [
    "Y = rates.values - mean_vector"
   ]
  },
  {
   "cell_type": "code",
   "execution_count": 17,
   "id": "b4732672",
   "metadata": {},
   "outputs": [],
   "source": [
    "cov = np.cov(Y.T)\n",
    "var = np.var(Y.T)"
   ]
  },
  {
   "cell_type": "code",
   "execution_count": 18,
   "id": "2610cf59",
   "metadata": {},
   "outputs": [
    {
     "data": {
      "text/html": [
       "<div>\n",
       "<style scoped>\n",
       "    .dataframe tbody tr th:only-of-type {\n",
       "        vertical-align: middle;\n",
       "    }\n",
       "\n",
       "    .dataframe tbody tr th {\n",
       "        vertical-align: top;\n",
       "    }\n",
       "\n",
       "    .dataframe thead th {\n",
       "        text-align: right;\n",
       "    }\n",
       "</style>\n",
       "<table border=\"1\" class=\"dataframe\">\n",
       "  <thead>\n",
       "    <tr style=\"text-align: right;\">\n",
       "      <th></th>\n",
       "      <th>0</th>\n",
       "      <th>1</th>\n",
       "      <th>2</th>\n",
       "      <th>3</th>\n",
       "      <th>4</th>\n",
       "      <th>5</th>\n",
       "    </tr>\n",
       "  </thead>\n",
       "  <tbody>\n",
       "    <tr>\n",
       "      <th>0</th>\n",
       "      <td>0.151113</td>\n",
       "      <td>0.000423</td>\n",
       "      <td>0.002486</td>\n",
       "      <td>0.019452</td>\n",
       "      <td>-0.003819</td>\n",
       "      <td>0.025421</td>\n",
       "    </tr>\n",
       "    <tr>\n",
       "      <th>1</th>\n",
       "      <td>0.000423</td>\n",
       "      <td>4.558632</td>\n",
       "      <td>0.045195</td>\n",
       "      <td>0.154527</td>\n",
       "      <td>0.115581</td>\n",
       "      <td>0.063706</td>\n",
       "    </tr>\n",
       "    <tr>\n",
       "      <th>2</th>\n",
       "      <td>0.002486</td>\n",
       "      <td>0.045195</td>\n",
       "      <td>0.319181</td>\n",
       "      <td>0.073068</td>\n",
       "      <td>0.161098</td>\n",
       "      <td>0.074817</td>\n",
       "    </tr>\n",
       "    <tr>\n",
       "      <th>3</th>\n",
       "      <td>0.019452</td>\n",
       "      <td>0.154527</td>\n",
       "      <td>0.073068</td>\n",
       "      <td>0.649892</td>\n",
       "      <td>0.079749</td>\n",
       "      <td>0.090593</td>\n",
       "    </tr>\n",
       "    <tr>\n",
       "      <th>4</th>\n",
       "      <td>-0.003819</td>\n",
       "      <td>0.115581</td>\n",
       "      <td>0.161098</td>\n",
       "      <td>0.079749</td>\n",
       "      <td>0.255090</td>\n",
       "      <td>0.081127</td>\n",
       "    </tr>\n",
       "    <tr>\n",
       "      <th>5</th>\n",
       "      <td>0.025421</td>\n",
       "      <td>0.063706</td>\n",
       "      <td>0.074817</td>\n",
       "      <td>0.090593</td>\n",
       "      <td>0.081127</td>\n",
       "      <td>0.070350</td>\n",
       "    </tr>\n",
       "  </tbody>\n",
       "</table>\n",
       "</div>"
      ],
      "text/plain": [
       "          0         1         2         3         4         5\n",
       "0  0.151113  0.000423  0.002486  0.019452 -0.003819  0.025421\n",
       "1  0.000423  4.558632  0.045195  0.154527  0.115581  0.063706\n",
       "2  0.002486  0.045195  0.319181  0.073068  0.161098  0.074817\n",
       "3  0.019452  0.154527  0.073068  0.649892  0.079749  0.090593\n",
       "4 -0.003819  0.115581  0.161098  0.079749  0.255090  0.081127\n",
       "5  0.025421  0.063706  0.074817  0.090593  0.081127  0.070350"
      ]
     },
     "execution_count": 18,
     "metadata": {},
     "output_type": "execute_result"
    }
   ],
   "source": [
    "beta = cov/var\n",
    "beta = pd.DataFrame(beta)\n",
    "beta"
   ]
  },
  {
   "cell_type": "code",
   "execution_count": 19,
   "id": "729ac3a6",
   "metadata": {},
   "outputs": [],
   "source": [
    "eigen_values, eigen_vectors = np.linalg.eig(cov)"
   ]
  },
  {
   "cell_type": "code",
   "execution_count": 20,
   "id": "5fad232b",
   "metadata": {
    "scrolled": false
   },
   "outputs": [
    {
     "name": "stdout",
     "output_type": "stream",
     "text": [
      "eigen values:  [8.85633068e-03 1.38194051e-03 8.03750179e-04 5.54103612e-05\n",
      " 2.99820231e-04 2.39202144e-04]\n",
      "\n",
      "eigen vectors:  [3.46856591e-04 9.98574623e-01 1.26618846e-02 4.05404102e-02\n",
      " 2.82663046e-02 1.56770423e-02]\n"
     ]
    }
   ],
   "source": [
    "print(\"eigen values: \", eigen_values)\n",
    "print('')\n",
    "print(\"eigen vectors: \", eigen_vectors[:,0])"
   ]
  },
  {
   "cell_type": "code",
   "execution_count": null,
   "id": "e2c33b64",
   "metadata": {},
   "outputs": [],
   "source": []
  },
  {
   "cell_type": "code",
   "execution_count": 21,
   "id": "01ec06b9",
   "metadata": {},
   "outputs": [],
   "source": [
    "import pandas as pd\n",
    "import statsmodels.regression.linear_model as lm\n",
    "import statsmodels.tools.tools as ct"
   ]
  },
  {
   "cell_type": "code",
   "execution_count": null,
   "id": "f9093c2a",
   "metadata": {},
   "outputs": [],
   "source": []
  },
  {
   "cell_type": "code",
   "execution_count": null,
   "id": "a0d9b5ed",
   "metadata": {},
   "outputs": [],
   "source": []
  },
  {
   "cell_type": "code",
   "execution_count": null,
   "id": "075a19c6",
   "metadata": {},
   "outputs": [],
   "source": []
  },
  {
   "cell_type": "code",
   "execution_count": null,
   "id": "a9b1a27e",
   "metadata": {},
   "outputs": [],
   "source": []
  },
  {
   "cell_type": "code",
   "execution_count": 22,
   "id": "4276a98d",
   "metadata": {},
   "outputs": [],
   "source": [
    "X = rates['^J203.JO']\n",
    "y = rates['SBK.JO']\n",
    "a = sm.add_constant(X)"
   ]
  },
  {
   "cell_type": "code",
   "execution_count": 23,
   "id": "eae0e2e5",
   "metadata": {},
   "outputs": [],
   "source": [
    "model = sm.OLS(y, a)"
   ]
  },
  {
   "cell_type": "code",
   "execution_count": 24,
   "id": "af74725c",
   "metadata": {},
   "outputs": [],
   "source": [
    "results = model.fit()"
   ]
  },
  {
   "cell_type": "code",
   "execution_count": 25,
   "id": "4ab59bfd",
   "metadata": {},
   "outputs": [
    {
     "data": {
      "text/html": [
       "<table class=\"simpletable\">\n",
       "<caption>OLS Regression Results</caption>\n",
       "<tr>\n",
       "  <th>Dep. Variable:</th>         <td>SBK.JO</td>      <th>  R-squared:         </th> <td>   0.367</td> \n",
       "</tr>\n",
       "<tr>\n",
       "  <th>Model:</th>                   <td>OLS</td>       <th>  Adj. R-squared:    </th> <td>   0.366</td> \n",
       "</tr>\n",
       "<tr>\n",
       "  <th>Method:</th>             <td>Least Squares</td>  <th>  F-statistic:       </th> <td>   815.5</td> \n",
       "</tr>\n",
       "<tr>\n",
       "  <th>Date:</th>             <td>Thu, 28 Oct 2021</td> <th>  Prob (F-statistic):</th> <td>7.12e-142</td>\n",
       "</tr>\n",
       "<tr>\n",
       "  <th>Time:</th>                 <td>18:57:18</td>     <th>  Log-Likelihood:    </th> <td>  3688.5</td> \n",
       "</tr>\n",
       "<tr>\n",
       "  <th>No. Observations:</th>      <td>  1410</td>      <th>  AIC:               </th> <td>  -7373.</td> \n",
       "</tr>\n",
       "<tr>\n",
       "  <th>Df Residuals:</th>          <td>  1408</td>      <th>  BIC:               </th> <td>  -7363.</td> \n",
       "</tr>\n",
       "<tr>\n",
       "  <th>Df Model:</th>              <td>     1</td>      <th>                     </th>     <td> </td>    \n",
       "</tr>\n",
       "<tr>\n",
       "  <th>Covariance Type:</th>      <td>nonrobust</td>    <th>                     </th>     <td> </td>    \n",
       "</tr>\n",
       "</table>\n",
       "<table class=\"simpletable\">\n",
       "<tr>\n",
       "      <td></td>        <th>coef</th>     <th>std err</th>      <th>t</th>      <th>P>|t|</th>  <th>[0.025</th>    <th>0.975]</th>  \n",
       "</tr>\n",
       "<tr>\n",
       "  <th>const</th>    <td>    0.0003</td> <td>    0.000</td> <td>    0.559</td> <td> 0.577</td> <td>   -0.001</td> <td>    0.001</td>\n",
       "</tr>\n",
       "<tr>\n",
       "  <th>^J203.JO</th> <td>    1.1532</td> <td>    0.040</td> <td>   28.556</td> <td> 0.000</td> <td>    1.074</td> <td>    1.232</td>\n",
       "</tr>\n",
       "</table>\n",
       "<table class=\"simpletable\">\n",
       "<tr>\n",
       "  <th>Omnibus:</th>       <td>90.153</td> <th>  Durbin-Watson:     </th> <td>   1.974</td>\n",
       "</tr>\n",
       "<tr>\n",
       "  <th>Prob(Omnibus):</th> <td> 0.000</td> <th>  Jarque-Bera (JB):  </th> <td> 303.742</td>\n",
       "</tr>\n",
       "<tr>\n",
       "  <th>Skew:</th>          <td> 0.238</td> <th>  Prob(JB):          </th> <td>1.10e-66</td>\n",
       "</tr>\n",
       "<tr>\n",
       "  <th>Kurtosis:</th>      <td> 5.224</td> <th>  Cond. No.          </th> <td>    85.7</td>\n",
       "</tr>\n",
       "</table><br/><br/>Notes:<br/>[1] Standard Errors assume that the covariance matrix of the errors is correctly specified."
      ],
      "text/plain": [
       "<class 'statsmodels.iolib.summary.Summary'>\n",
       "\"\"\"\n",
       "                            OLS Regression Results                            \n",
       "==============================================================================\n",
       "Dep. Variable:                 SBK.JO   R-squared:                       0.367\n",
       "Model:                            OLS   Adj. R-squared:                  0.366\n",
       "Method:                 Least Squares   F-statistic:                     815.5\n",
       "Date:                Thu, 28 Oct 2021   Prob (F-statistic):          7.12e-142\n",
       "Time:                        18:57:18   Log-Likelihood:                 3688.5\n",
       "No. Observations:                1410   AIC:                            -7373.\n",
       "Df Residuals:                    1408   BIC:                            -7363.\n",
       "Df Model:                           1                                         \n",
       "Covariance Type:            nonrobust                                         \n",
       "==============================================================================\n",
       "                 coef    std err          t      P>|t|      [0.025      0.975]\n",
       "------------------------------------------------------------------------------\n",
       "const          0.0003      0.000      0.559      0.577      -0.001       0.001\n",
       "^J203.JO       1.1532      0.040     28.556      0.000       1.074       1.232\n",
       "==============================================================================\n",
       "Omnibus:                       90.153   Durbin-Watson:                   1.974\n",
       "Prob(Omnibus):                  0.000   Jarque-Bera (JB):              303.742\n",
       "Skew:                           0.238   Prob(JB):                     1.10e-66\n",
       "Kurtosis:                       5.224   Cond. No.                         85.7\n",
       "==============================================================================\n",
       "\n",
       "Notes:\n",
       "[1] Standard Errors assume that the covariance matrix of the errors is correctly specified.\n",
       "\"\"\""
      ]
     },
     "execution_count": 25,
     "metadata": {},
     "output_type": "execute_result"
    }
   ],
   "source": [
    "results.summary()"
   ]
  },
  {
   "cell_type": "code",
   "execution_count": null,
   "id": "a35a6b5e",
   "metadata": {},
   "outputs": [],
   "source": []
  },
  {
   "cell_type": "code",
   "execution_count": null,
   "id": "da7b13d8",
   "metadata": {},
   "outputs": [],
   "source": []
  },
  {
   "cell_type": "code",
   "execution_count": null,
   "id": "0122f7c8",
   "metadata": {},
   "outputs": [],
   "source": []
  },
  {
   "cell_type": "code",
   "execution_count": null,
   "id": "7eb416fa",
   "metadata": {},
   "outputs": [],
   "source": []
  },
  {
   "cell_type": "code",
   "execution_count": null,
   "id": "cb15c5e9",
   "metadata": {},
   "outputs": [],
   "source": []
  },
  {
   "cell_type": "code",
   "execution_count": 26,
   "id": "fc132ded",
   "metadata": {},
   "outputs": [],
   "source": [
    "loading = eigen_vectors.T * np.sqrt(eigen_values)"
   ]
  },
  {
   "cell_type": "code",
   "execution_count": 27,
   "id": "413d1888",
   "metadata": {
    "scrolled": true
   },
   "outputs": [
    {
     "data": {
      "text/html": [
       "<div>\n",
       "<style scoped>\n",
       "    .dataframe tbody tr th:only-of-type {\n",
       "        vertical-align: middle;\n",
       "    }\n",
       "\n",
       "    .dataframe tbody tr th {\n",
       "        vertical-align: top;\n",
       "    }\n",
       "\n",
       "    .dataframe thead th {\n",
       "        text-align: right;\n",
       "    }\n",
       "</style>\n",
       "<table border=\"1\" class=\"dataframe\">\n",
       "  <thead>\n",
       "    <tr style=\"text-align: right;\">\n",
       "      <th></th>\n",
       "      <th>PC1</th>\n",
       "      <th>PC2</th>\n",
       "      <th>PC3</th>\n",
       "      <th>PC4</th>\n",
       "      <th>PC5</th>\n",
       "      <th>PC6</th>\n",
       "    </tr>\n",
       "  </thead>\n",
       "  <tbody>\n",
       "    <tr>\n",
       "      <th>BTI.JO</th>\n",
       "      <td>0.000033</td>\n",
       "      <td>0.037121</td>\n",
       "      <td>0.000359</td>\n",
       "      <td>0.000302</td>\n",
       "      <td>0.000489</td>\n",
       "      <td>0.000242</td>\n",
       "    </tr>\n",
       "    <tr>\n",
       "      <th>CL=F</th>\n",
       "      <td>-0.003645</td>\n",
       "      <td>0.001893</td>\n",
       "      <td>-0.008827</td>\n",
       "      <td>-0.006577</td>\n",
       "      <td>-0.004925</td>\n",
       "      <td>-0.002988</td>\n",
       "    </tr>\n",
       "    <tr>\n",
       "      <th>CPI.JO</th>\n",
       "      <td>-0.001851</td>\n",
       "      <td>-0.000306</td>\n",
       "      <td>0.019545</td>\n",
       "      <td>-0.003363</td>\n",
       "      <td>0.009418</td>\n",
       "      <td>0.002414</td>\n",
       "    </tr>\n",
       "    <tr>\n",
       "      <th>KIO.JO</th>\n",
       "      <td>-0.017648</td>\n",
       "      <td>-0.000111</td>\n",
       "      <td>-0.002223</td>\n",
       "      <td>-0.000664</td>\n",
       "      <td>-0.004361</td>\n",
       "      <td>0.014568</td>\n",
       "    </tr>\n",
       "    <tr>\n",
       "      <th>SBK.JO</th>\n",
       "      <td>-0.092203</td>\n",
       "      <td>-0.000062</td>\n",
       "      <td>-0.000649</td>\n",
       "      <td>0.000435</td>\n",
       "      <td>0.001561</td>\n",
       "      <td>-0.002588</td>\n",
       "    </tr>\n",
       "    <tr>\n",
       "      <th>^J203.JO</th>\n",
       "      <td>-0.005166</td>\n",
       "      <td>0.000494</td>\n",
       "      <td>0.018394</td>\n",
       "      <td>0.000346</td>\n",
       "      <td>-0.012852</td>\n",
       "      <td>-0.002335</td>\n",
       "    </tr>\n",
       "  </tbody>\n",
       "</table>\n",
       "</div>"
      ],
      "text/plain": [
       "               PC1       PC2       PC3       PC4       PC5       PC6\n",
       "BTI.JO    0.000033  0.037121  0.000359  0.000302  0.000489  0.000242\n",
       "CL=F     -0.003645  0.001893 -0.008827 -0.006577 -0.004925 -0.002988\n",
       "CPI.JO   -0.001851 -0.000306  0.019545 -0.003363  0.009418  0.002414\n",
       "KIO.JO   -0.017648 -0.000111 -0.002223 -0.000664 -0.004361  0.014568\n",
       "SBK.JO   -0.092203 -0.000062 -0.000649  0.000435  0.001561 -0.002588\n",
       "^J203.JO -0.005166  0.000494  0.018394  0.000346 -0.012852 -0.002335"
      ]
     },
     "execution_count": 27,
     "metadata": {},
     "output_type": "execute_result"
    }
   ],
   "source": [
    "loading = eigen_vectors.T * np.sqrt(eigen_values)\n",
    "loading = pd.DataFrame(loading)\n",
    "loading.columns = ['PC1', 'PC2', 'PC3', 'PC4', 'PC5', 'PC6']\n",
    "loading.index = rates.columns\n",
    "loading"
   ]
  },
  {
   "cell_type": "code",
   "execution_count": 28,
   "id": "4186a761",
   "metadata": {},
   "outputs": [
    {
     "name": "stdout",
     "output_type": "stream",
     "text": [
      "[76.10850004903038, 11.875958946495844, 6.907174398859437, 2.57656007313322, 2.0556274435444974, 0.4761790889366275]\n"
     ]
    },
    {
     "data": {
      "text/plain": [
       "[<matplotlib.lines.Line2D at 0x7fb8503e84f0>]"
      ]
     },
     "execution_count": 28,
     "metadata": {},
     "output_type": "execute_result"
    },
    {
     "data": {
      "image/png": "[encoded data removed]",
      "text/plain": [
       "<Figure size 432x288 with 1 Axes>"
      ]
     },
     "metadata": {
      "needs_background": "light"
     },
     "output_type": "display_data"
    }
   ],
   "source": [
    "x = eigen_values\n",
    "w = []\n",
    "z = []\n",
    "cnt = 0\n",
    "for i in x:\n",
    "    w.append(100*(i/sum(x)))\n",
    "    z.append(cnt)\n",
    "    cnt+=1\n",
    "print(sorted(w, key=float, reverse=True))\n",
    "plt.plot(z, sorted(eigen_values, key=float, reverse=True))"
   ]
  },
  {
   "cell_type": "code",
   "execution_count": 29,
   "id": "482f3d46",
   "metadata": {},
   "outputs": [
    {
     "data": {
      "text/html": [
       "<div>\n",
       "<style scoped>\n",
       "    .dataframe tbody tr th:only-of-type {\n",
       "        vertical-align: middle;\n",
       "    }\n",
       "\n",
       "    .dataframe tbody tr th {\n",
       "        vertical-align: top;\n",
       "    }\n",
       "\n",
       "    .dataframe thead th {\n",
       "        text-align: right;\n",
       "    }\n",
       "</style>\n",
       "<table border=\"1\" class=\"dataframe\">\n",
       "  <thead>\n",
       "    <tr style=\"text-align: right;\">\n",
       "      <th></th>\n",
       "      <th>Component</th>\n",
       "      <th>Feature</th>\n",
       "    </tr>\n",
       "  </thead>\n",
       "  <tbody>\n",
       "    <tr>\n",
       "      <th>0</th>\n",
       "      <td>PC1</td>\n",
       "      <td>SBK.JO</td>\n",
       "    </tr>\n",
       "    <tr>\n",
       "      <th>1</th>\n",
       "      <td>PC2</td>\n",
       "      <td>BTI.JO</td>\n",
       "    </tr>\n",
       "    <tr>\n",
       "      <th>2</th>\n",
       "      <td>PC3</td>\n",
       "      <td>CPI.JO</td>\n",
       "    </tr>\n",
       "    <tr>\n",
       "      <th>3</th>\n",
       "      <td>PC4</td>\n",
       "      <td>CL=F</td>\n",
       "    </tr>\n",
       "    <tr>\n",
       "      <th>4</th>\n",
       "      <td>PC5</td>\n",
       "      <td>^J203.JO</td>\n",
       "    </tr>\n",
       "  </tbody>\n",
       "</table>\n",
       "</div>"
      ],
      "text/plain": [
       "  Component   Feature\n",
       "0       PC1    SBK.JO\n",
       "1       PC2    BTI.JO\n",
       "2       PC3    CPI.JO\n",
       "3       PC4      CL=F\n",
       "4       PC5  ^J203.JO"
      ]
     },
     "execution_count": 29,
     "metadata": {},
     "output_type": "execute_result"
    }
   ],
   "source": [
    "# get the index of the most important feature on EACH component i.e. largest absolute value\n",
    "# using LIST COMPREHENSION HERE\n",
    "most_important = [np.abs(eigen_vectors[i]).argmax() for i in range(5)]\n",
    "\n",
    "initial_feature_names = rates.columns\n",
    "\n",
    "# get the names\n",
    "most_important_names = [initial_feature_names[most_important[i]] for i in range(5)]\n",
    "\n",
    "# using LIST COMPREHENSION HERE AGAIN\n",
    "dic = {'PC{}'.format(i+1): most_important_names[i] for i in range(5)}\n",
    "\n",
    "# build the dataframe\n",
    "top_features = pd.DataFrame(sorted(dic.items()))\n",
    "top_features.columns = ['Component', 'Feature']\n",
    "top_features"
   ]
  },
  {
   "cell_type": "code",
   "execution_count": 30,
   "id": "f633167b",
   "metadata": {
    "scrolled": true
   },
   "outputs": [
    {
     "name": "stdout",
     "output_type": "stream",
     "text": [
      "[76.10850004903038, 11.875958946495844, 6.907174398859437, 2.57656007313322, 2.0556274435444974, 0.4761790889366275]\n"
     ]
    },
    {
     "data": {
      "text/plain": [
       "[<matplotlib.lines.Line2D at 0x7fb85039e8b0>]"
      ]
     },
     "execution_count": 30,
     "metadata": {},
     "output_type": "execute_result"
    },
    {
     "data": {
      "image/png": "[encoded data removed]",
      "text/plain": [
       "<Figure size 432x288 with 1 Axes>"
      ]
     },
     "metadata": {
      "needs_background": "light"
     },
     "output_type": "display_data"
    }
   ],
   "source": [
    "x = eigen_values\n",
    "w = []\n",
    "z = []\n",
    "cnt = 0\n",
    "for i in x:\n",
    "    w.append(100*(i/sum(x)))\n",
    "    z.append(cnt)\n",
    "    cnt+=1\n",
    "print(sorted(w, key=float, reverse=True))\n",
    "plt.plot(z, sorted(eigen_values, key=float, reverse=True))"
   ]
  },
  {
   "cell_type": "code",
   "execution_count": 31,
   "id": "6e13782c",
   "metadata": {},
   "outputs": [],
   "source": [
    "#for validation purposes\n",
    "pca = PCA(n_components = 6)\n",
    "X = pca.fit_transform(rates.values)"
   ]
  },
  {
   "cell_type": "code",
   "execution_count": 32,
   "id": "4c57da7f",
   "metadata": {},
   "outputs": [
    {
     "name": "stdout",
     "output_type": "stream",
     "text": [
      "[[-3.46856591e-04 -9.98574623e-01 -1.26618846e-02 -4.05404102e-02\n",
      "  -2.82663046e-02 -1.56770423e-02]\n",
      " [ 3.87304496e-02 -5.09181218e-02  3.11343856e-01  8.83602050e-01\n",
      "   2.84432530e-01  1.93178293e-01]\n",
      " [ 1.96738559e-02  8.24144837e-03 -6.89415068e-01  4.51738750e-01\n",
      "  -5.43892409e-01 -1.56093022e-01]\n",
      " [-9.79761720e-01 -1.66802937e-03 -2.28768298e-02  5.84804909e-02\n",
      "   9.01256141e-02 -1.67326764e-01]\n",
      " [-5.48926276e-02  1.32850123e-02  6.48800820e-01  4.64920973e-02\n",
      "  -7.42239061e-01 -1.50955175e-01]\n",
      " [ 1.87527445e-01  2.97853148e-03  7.83944611e-02  8.91880668e-02\n",
      "   2.51870499e-01 -9.41958404e-01]]\n"
     ]
    }
   ],
   "source": [
    "print(pca.components_)"
   ]
  },
  {
   "cell_type": "code",
   "execution_count": 33,
   "id": "44f653e0",
   "metadata": {},
   "outputs": [
    {
     "name": "stdout",
     "output_type": "stream",
     "text": [
      "[8.85633068e-03 1.38194051e-03 8.03750179e-04 2.99820231e-04\n",
      " 2.39202144e-04 5.54103612e-05]\n"
     ]
    }
   ],
   "source": [
    "print(pca.explained_variance_)"
   ]
  },
  {
   "cell_type": "code",
   "execution_count": null,
   "id": "3f876af1",
   "metadata": {},
   "outputs": [],
   "source": []
  },
  {
   "cell_type": "code",
   "execution_count": null,
   "id": "45298dc0",
   "metadata": {},
   "outputs": [],
   "source": []
  }
 ],
 "metadata": {
  "kernelspec": {
   "display_name": "Python 3",
   "language": "python",
   "name": "python3"
  },
  "language_info": {
   "codemirror_mode": {
    "name": "ipython",
    "version": 3
   },
   "file_extension": ".py",
   "mimetype": "text/x-python",
   "name": "python",
   "nbconvert_exporter": "python",
   "pygments_lexer": "ipython3",
   "version": "3.8.8"
  }
 },
 "nbformat": 4,
 "nbformat_minor": 5
}
