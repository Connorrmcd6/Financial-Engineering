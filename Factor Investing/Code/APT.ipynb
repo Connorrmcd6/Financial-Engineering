{
 "cells": [
  {
   "cell_type": "code",
   "execution_count": 1,
   "id": "0adbcb85",
   "metadata": {},
   "outputs": [],
   "source": [
    "import pandas as pd\n",
    "import numpy as np\n",
    "import matplotlib.pyplot as plt\n",
    "from sklearn.decomposition import PCA\n",
    "import yfinance as yf\n",
    "import statsmodels.api as sm\n",
    "%matplotlib inline"
   ]
  },
  {
   "cell_type": "code",
   "execution_count": 17,
   "id": "78cc4758",
   "metadata": {
    "scrolled": true
   },
   "outputs": [
    {
     "name": "stdout",
     "output_type": "stream",
     "text": [
      "[*********************100%***********************]  6 of 6 completed\n"
     ]
    },
    {
     "data": {
      "text/html": [
       "<div>\n",
       "<style scoped>\n",
       "    .dataframe tbody tr th:only-of-type {\n",
       "        vertical-align: middle;\n",
       "    }\n",
       "\n",
       "    .dataframe tbody tr th {\n",
       "        vertical-align: top;\n",
       "    }\n",
       "\n",
       "    .dataframe thead th {\n",
       "        text-align: right;\n",
       "    }\n",
       "</style>\n",
       "<table border=\"1\" class=\"dataframe\">\n",
       "  <thead>\n",
       "    <tr style=\"text-align: right;\">\n",
       "      <th></th>\n",
       "      <th>ABG.JO</th>\n",
       "      <th>CL=F</th>\n",
       "      <th>CPI.JO</th>\n",
       "      <th>NED.JO</th>\n",
       "      <th>SBK.JO</th>\n",
       "      <th>^J203.JO</th>\n",
       "    </tr>\n",
       "    <tr>\n",
       "      <th>Date</th>\n",
       "      <th></th>\n",
       "      <th></th>\n",
       "      <th></th>\n",
       "      <th></th>\n",
       "      <th></th>\n",
       "      <th></th>\n",
       "    </tr>\n",
       "  </thead>\n",
       "  <tbody>\n",
       "    <tr>\n",
       "      <th>2016-01-04</th>\n",
       "      <td>9453.481445</td>\n",
       "      <td>36.759998</td>\n",
       "      <td>48771.425781</td>\n",
       "      <td>13231.250000</td>\n",
       "      <td>8153.298340</td>\n",
       "      <td>49316.609375</td>\n",
       "    </tr>\n",
       "    <tr>\n",
       "      <th>2016-01-05</th>\n",
       "      <td>9603.624023</td>\n",
       "      <td>35.970001</td>\n",
       "      <td>48219.300781</td>\n",
       "      <td>13314.525391</td>\n",
       "      <td>8180.396484</td>\n",
       "      <td>49599.718750</td>\n",
       "    </tr>\n",
       "    <tr>\n",
       "      <th>2016-01-06</th>\n",
       "      <td>9425.676758</td>\n",
       "      <td>33.970001</td>\n",
       "      <td>47915.621094</td>\n",
       "      <td>13259.737305</td>\n",
       "      <td>8129.860352</td>\n",
       "      <td>49082.289062</td>\n",
       "    </tr>\n",
       "    <tr>\n",
       "      <th>2016-01-07</th>\n",
       "      <td>9036.416016</td>\n",
       "      <td>33.270000</td>\n",
       "      <td>47851.207031</td>\n",
       "      <td>12862.355469</td>\n",
       "      <td>7885.962891</td>\n",
       "      <td>48052.781250</td>\n",
       "    </tr>\n",
       "    <tr>\n",
       "      <th>2016-01-08</th>\n",
       "      <td>9175.437500</td>\n",
       "      <td>33.160000</td>\n",
       "      <td>47120.554688</td>\n",
       "      <td>12559.203125</td>\n",
       "      <td>7646.462402</td>\n",
       "      <td>48104.679688</td>\n",
       "    </tr>\n",
       "  </tbody>\n",
       "</table>\n",
       "</div>"
      ],
      "text/plain": [
       "                 ABG.JO       CL=F        CPI.JO        NED.JO       SBK.JO  \\\n",
       "Date                                                                          \n",
       "2016-01-04  9453.481445  36.759998  48771.425781  13231.250000  8153.298340   \n",
       "2016-01-05  9603.624023  35.970001  48219.300781  13314.525391  8180.396484   \n",
       "2016-01-06  9425.676758  33.970001  47915.621094  13259.737305  8129.860352   \n",
       "2016-01-07  9036.416016  33.270000  47851.207031  12862.355469  7885.962891   \n",
       "2016-01-08  9175.437500  33.160000  47120.554688  12559.203125  7646.462402   \n",
       "\n",
       "                ^J203.JO  \n",
       "Date                      \n",
       "2016-01-04  49316.609375  \n",
       "2016-01-05  49599.718750  \n",
       "2016-01-06  49082.289062  \n",
       "2016-01-07  48052.781250  \n",
       "2016-01-08  48104.679688  "
      ]
     },
     "execution_count": 17,
     "metadata": {},
     "output_type": "execute_result"
    }
   ],
   "source": [
    "tickers_list = ['ABG.JO', 'SBK.JO', 'CL=F', 'NED.JO', 'CPI.JO', '^J203.JO']\n",
    "data = yf.download(tickers_list,'2016-1-1', '2020-12-31')['Adj Close']\n",
    "data = data.dropna()\n",
    "data.head()"
   ]
  },
  {
   "cell_type": "code",
   "execution_count": 18,
   "id": "0fd9bd86",
   "metadata": {},
   "outputs": [
    {
     "data": {
      "text/html": [
       "<div>\n",
       "<style scoped>\n",
       "    .dataframe tbody tr th:only-of-type {\n",
       "        vertical-align: middle;\n",
       "    }\n",
       "\n",
       "    .dataframe tbody tr th {\n",
       "        vertical-align: top;\n",
       "    }\n",
       "\n",
       "    .dataframe thead th {\n",
       "        text-align: right;\n",
       "    }\n",
       "</style>\n",
       "<table border=\"1\" class=\"dataframe\">\n",
       "  <thead>\n",
       "    <tr style=\"text-align: right;\">\n",
       "      <th></th>\n",
       "      <th>ABG.JO</th>\n",
       "      <th>CL=F</th>\n",
       "      <th>CPI.JO</th>\n",
       "      <th>NED.JO</th>\n",
       "      <th>SBK.JO</th>\n",
       "      <th>^J203.JO</th>\n",
       "    </tr>\n",
       "    <tr>\n",
       "      <th>Date</th>\n",
       "      <th></th>\n",
       "      <th></th>\n",
       "      <th></th>\n",
       "      <th></th>\n",
       "      <th></th>\n",
       "      <th></th>\n",
       "    </tr>\n",
       "  </thead>\n",
       "  <tbody>\n",
       "    <tr>\n",
       "      <th>2016-01-04</th>\n",
       "      <td>9453.48</td>\n",
       "      <td>36.76</td>\n",
       "      <td>48771.43</td>\n",
       "      <td>13231.25</td>\n",
       "      <td>8153.30</td>\n",
       "      <td>49316.61</td>\n",
       "    </tr>\n",
       "    <tr>\n",
       "      <th>2016-01-05</th>\n",
       "      <td>9603.62</td>\n",
       "      <td>35.97</td>\n",
       "      <td>48219.30</td>\n",
       "      <td>13314.53</td>\n",
       "      <td>8180.40</td>\n",
       "      <td>49599.72</td>\n",
       "    </tr>\n",
       "    <tr>\n",
       "      <th>2016-01-06</th>\n",
       "      <td>9425.68</td>\n",
       "      <td>33.97</td>\n",
       "      <td>47915.62</td>\n",
       "      <td>13259.74</td>\n",
       "      <td>8129.86</td>\n",
       "      <td>49082.29</td>\n",
       "    </tr>\n",
       "    <tr>\n",
       "      <th>2016-01-07</th>\n",
       "      <td>9036.42</td>\n",
       "      <td>33.27</td>\n",
       "      <td>47851.21</td>\n",
       "      <td>12862.36</td>\n",
       "      <td>7885.96</td>\n",
       "      <td>48052.78</td>\n",
       "    </tr>\n",
       "    <tr>\n",
       "      <th>2016-01-08</th>\n",
       "      <td>9175.44</td>\n",
       "      <td>33.16</td>\n",
       "      <td>47120.55</td>\n",
       "      <td>12559.20</td>\n",
       "      <td>7646.46</td>\n",
       "      <td>48104.68</td>\n",
       "    </tr>\n",
       "  </tbody>\n",
       "</table>\n",
       "</div>"
      ],
      "text/plain": [
       "             ABG.JO   CL=F    CPI.JO    NED.JO   SBK.JO  ^J203.JO\n",
       "Date                                                             \n",
       "2016-01-04  9453.48  36.76  48771.43  13231.25  8153.30  49316.61\n",
       "2016-01-05  9603.62  35.97  48219.30  13314.53  8180.40  49599.72\n",
       "2016-01-06  9425.68  33.97  47915.62  13259.74  8129.86  49082.29\n",
       "2016-01-07  9036.42  33.27  47851.21  12862.36  7885.96  48052.78\n",
       "2016-01-08  9175.44  33.16  47120.55  12559.20  7646.46  48104.68"
      ]
     },
     "execution_count": 18,
     "metadata": {},
     "output_type": "execute_result"
    }
   ],
   "source": [
    "x = data.head().round(2)\n",
    "x"
   ]
  },
  {
   "cell_type": "code",
   "execution_count": 4,
   "id": "54d8d8a8",
   "metadata": {},
   "outputs": [
    {
     "data": {
      "text/html": [
       "<div>\n",
       "<style scoped>\n",
       "    .dataframe tbody tr th:only-of-type {\n",
       "        vertical-align: middle;\n",
       "    }\n",
       "\n",
       "    .dataframe tbody tr th {\n",
       "        vertical-align: top;\n",
       "    }\n",
       "\n",
       "    .dataframe thead th {\n",
       "        text-align: right;\n",
       "    }\n",
       "</style>\n",
       "<table border=\"1\" class=\"dataframe\">\n",
       "  <thead>\n",
       "    <tr style=\"text-align: right;\">\n",
       "      <th></th>\n",
       "      <th>ABG.JO</th>\n",
       "      <th>CL=F</th>\n",
       "      <th>CPI.JO</th>\n",
       "      <th>NED.JO</th>\n",
       "      <th>SBK.JO</th>\n",
       "      <th>^J203.JO</th>\n",
       "    </tr>\n",
       "    <tr>\n",
       "      <th>Date</th>\n",
       "      <th></th>\n",
       "      <th></th>\n",
       "      <th></th>\n",
       "      <th></th>\n",
       "      <th></th>\n",
       "      <th></th>\n",
       "    </tr>\n",
       "  </thead>\n",
       "  <tbody>\n",
       "    <tr>\n",
       "      <th>2016-01-05</th>\n",
       "      <td>0.01588</td>\n",
       "      <td>-0.02149</td>\n",
       "      <td>-0.01132</td>\n",
       "      <td>0.00629</td>\n",
       "      <td>0.00332</td>\n",
       "      <td>0.00574</td>\n",
       "    </tr>\n",
       "    <tr>\n",
       "      <th>2016-01-06</th>\n",
       "      <td>-0.01853</td>\n",
       "      <td>-0.05560</td>\n",
       "      <td>-0.00630</td>\n",
       "      <td>-0.00411</td>\n",
       "      <td>-0.00618</td>\n",
       "      <td>-0.01043</td>\n",
       "    </tr>\n",
       "    <tr>\n",
       "      <th>2016-01-07</th>\n",
       "      <td>-0.04130</td>\n",
       "      <td>-0.02061</td>\n",
       "      <td>-0.00134</td>\n",
       "      <td>-0.02997</td>\n",
       "      <td>-0.03000</td>\n",
       "      <td>-0.02098</td>\n",
       "    </tr>\n",
       "    <tr>\n",
       "      <th>2016-01-08</th>\n",
       "      <td>0.01538</td>\n",
       "      <td>-0.00331</td>\n",
       "      <td>-0.01527</td>\n",
       "      <td>-0.02357</td>\n",
       "      <td>-0.03037</td>\n",
       "      <td>0.00108</td>\n",
       "    </tr>\n",
       "    <tr>\n",
       "      <th>2016-01-11</th>\n",
       "      <td>-0.04167</td>\n",
       "      <td>-0.05277</td>\n",
       "      <td>-0.04308</td>\n",
       "      <td>-0.01413</td>\n",
       "      <td>-0.04215</td>\n",
       "      <td>0.00453</td>\n",
       "    </tr>\n",
       "  </tbody>\n",
       "</table>\n",
       "</div>"
      ],
      "text/plain": [
       "             ABG.JO     CL=F   CPI.JO   NED.JO   SBK.JO  ^J203.JO\n",
       "Date                                                             \n",
       "2016-01-05  0.01588 -0.02149 -0.01132  0.00629  0.00332   0.00574\n",
       "2016-01-06 -0.01853 -0.05560 -0.00630 -0.00411 -0.00618  -0.01043\n",
       "2016-01-07 -0.04130 -0.02061 -0.00134 -0.02997 -0.03000  -0.02098\n",
       "2016-01-08  0.01538 -0.00331 -0.01527 -0.02357 -0.03037   0.00108\n",
       "2016-01-11 -0.04167 -0.05277 -0.04308 -0.01413 -0.04215   0.00453"
      ]
     },
     "execution_count": 4,
     "metadata": {},
     "output_type": "execute_result"
    }
   ],
   "source": [
    "rates = data.pct_change()\n",
    "rates = rates.iloc[1:,:]\n",
    "rates.head().round(5)"
   ]
  },
  {
   "cell_type": "code",
   "execution_count": 5,
   "id": "68112450",
   "metadata": {},
   "outputs": [
    {
     "data": {
      "text/plain": [
       "array([ 0.00054146, -0.00159138,  0.00123428,  0.00043714,  0.00056991,\n",
       "        0.00031828])"
      ]
     },
     "execution_count": 5,
     "metadata": {},
     "output_type": "execute_result"
    }
   ],
   "source": [
    "mean_vector = rates.values.T.mean(axis=1)\n",
    "mean_vector"
   ]
  },
  {
   "cell_type": "code",
   "execution_count": 6,
   "id": "486843a9",
   "metadata": {},
   "outputs": [],
   "source": [
    "Y = rates.values - mean_vector\n",
    "cov = np.cov(Y.T)\n",
    "eigen_values, eigen_vectors = np.linalg.eig(cov)"
   ]
  },
  {
   "cell_type": "code",
   "execution_count": 7,
   "id": "601a2ca9",
   "metadata": {},
   "outputs": [
    {
     "data": {
      "text/plain": [
       "array([8.78002111e-03, 1.76620041e-03, 3.53620011e-04, 1.18744305e-04,\n",
       "       7.21367283e-05, 9.72846079e-05])"
      ]
     },
     "execution_count": 7,
     "metadata": {},
     "output_type": "execute_result"
    }
   ],
   "source": [
    "eigen_values"
   ]
  },
  {
   "cell_type": "code",
   "execution_count": 8,
   "id": "5a69fc8e",
   "metadata": {},
   "outputs": [
    {
     "data": {
      "text/plain": [
       "array([[-0.01969931,  0.52031564, -0.24292948, -0.79661519, -0.14477106,\n",
       "         0.11964283],\n",
       "       [-0.9989244 , -0.04439166,  0.00456113, -0.00758299,  0.00237734,\n",
       "        -0.00977053],\n",
       "       [-0.01353457,  0.4342062 ,  0.88615514, -0.02134375,  0.07715008,\n",
       "        -0.14001128],\n",
       "       [-0.02139233,  0.52832462, -0.35113386,  0.36418561, -0.07300872,\n",
       "        -0.67761275],\n",
       "       [-0.02963294,  0.47809148, -0.17178782,  0.36884347,  0.48411452,\n",
       "         0.60879143],\n",
       "       [-0.01559004,  0.17626009,  0.05373526,  0.31018465, -0.85637983,\n",
       "         0.36905409]])"
      ]
     },
     "execution_count": 8,
     "metadata": {},
     "output_type": "execute_result"
    }
   ],
   "source": [
    "eigen_vectors"
   ]
  },
  {
   "cell_type": "code",
   "execution_count": 9,
   "id": "1d53785a",
   "metadata": {
    "scrolled": true
   },
   "outputs": [
    {
     "name": "stdout",
     "output_type": "stream",
     "text": [
      "[78.47707796751789, 15.786550560335765, 3.1607059715746373, 1.0613534910725884, 0.8695436677875155, 0.6447683417115913]\n"
     ]
    },
    {
     "data": {
      "image/png": "[encoded data removed]",
      "text/plain": [
       "<Figure size 576x288 with 1 Axes>"
      ]
     },
     "metadata": {
      "needs_background": "light"
     },
     "output_type": "display_data"
    }
   ],
   "source": [
    "x = eigen_values\n",
    "w = []\n",
    "z = []\n",
    "cnt = 1\n",
    "for i in x:\n",
    "    w.append(100*(i/sum(x)))\n",
    "    z.append(cnt)\n",
    "    cnt+=1\n",
    "print(sorted(w, key=float, reverse=True))\n",
    "plt.rcParams[\"figure.figsize\"] = (8,4)\n",
    "plt.plot(z, w,'o-', linewidth=2, color='blue')\n",
    "plt.title('Scree Plot')\n",
    "plt.xlabel('Principal Component')\n",
    "plt.ylabel('% Variance Explained')\n",
    "plt.show()"
   ]
  },
  {
   "cell_type": "code",
   "execution_count": 10,
   "id": "7b925a7a",
   "metadata": {},
   "outputs": [
    {
     "name": "stdout",
     "output_type": "stream",
     "text": [
      "               FL1       FL2       FL3       FL4       FL5       FL6\n",
      "ABG.JO   -0.019699  0.520316 -0.242929 -0.796615 -0.144771  0.119643\n",
      "CL=F     -0.998924 -0.044392  0.004561 -0.007583  0.002377 -0.009771\n",
      "CPI.JO   -0.013535  0.434206  0.886155 -0.021344  0.077150 -0.140011\n",
      "NED.JO   -0.021392  0.528325 -0.351134  0.364186 -0.073009 -0.677613\n",
      "SBK.JO   -0.029633  0.478091 -0.171788  0.368843  0.484115  0.608791\n",
      "^J203.JO -0.015590  0.176260  0.053735  0.310185 -0.856380  0.369054\n"
     ]
    }
   ],
   "source": [
    "# loading = eigen_vectors.T * np.sqrt(eigen_values)\n",
    "loading = pd.DataFrame(eigen_vectors)\n",
    "loading.columns = ['FL1', 'FL2', 'FL3', 'FL4', 'FL5', 'FL6']\n",
    "loading.index = rates.columns\n",
    "print(loading)"
   ]
  },
  {
   "cell_type": "code",
   "execution_count": 11,
   "id": "f4cb3977",
   "metadata": {
    "scrolled": true
   },
   "outputs": [
    {
     "data": {
      "text/html": [
       "<div>\n",
       "<style scoped>\n",
       "    .dataframe tbody tr th:only-of-type {\n",
       "        vertical-align: middle;\n",
       "    }\n",
       "\n",
       "    .dataframe tbody tr th {\n",
       "        vertical-align: top;\n",
       "    }\n",
       "\n",
       "    .dataframe thead th {\n",
       "        text-align: right;\n",
       "    }\n",
       "</style>\n",
       "<table border=\"1\" class=\"dataframe\">\n",
       "  <thead>\n",
       "    <tr style=\"text-align: right;\">\n",
       "      <th></th>\n",
       "      <th>0</th>\n",
       "      <th>1</th>\n",
       "      <th>2</th>\n",
       "      <th>3</th>\n",
       "      <th>4</th>\n",
       "      <th>5</th>\n",
       "    </tr>\n",
       "  </thead>\n",
       "  <tbody>\n",
       "    <tr>\n",
       "      <th>0</th>\n",
       "      <td>-0.019699</td>\n",
       "      <td>0.520316</td>\n",
       "      <td>-0.242929</td>\n",
       "      <td>-0.796615</td>\n",
       "      <td>-0.144771</td>\n",
       "      <td>0.119643</td>\n",
       "    </tr>\n",
       "    <tr>\n",
       "      <th>1</th>\n",
       "      <td>-0.998924</td>\n",
       "      <td>-0.044392</td>\n",
       "      <td>0.004561</td>\n",
       "      <td>-0.007583</td>\n",
       "      <td>0.002377</td>\n",
       "      <td>-0.009771</td>\n",
       "    </tr>\n",
       "    <tr>\n",
       "      <th>2</th>\n",
       "      <td>-0.013535</td>\n",
       "      <td>0.434206</td>\n",
       "      <td>0.886155</td>\n",
       "      <td>-0.021344</td>\n",
       "      <td>0.077150</td>\n",
       "      <td>-0.140011</td>\n",
       "    </tr>\n",
       "    <tr>\n",
       "      <th>3</th>\n",
       "      <td>-0.021392</td>\n",
       "      <td>0.528325</td>\n",
       "      <td>-0.351134</td>\n",
       "      <td>0.364186</td>\n",
       "      <td>-0.073009</td>\n",
       "      <td>-0.677613</td>\n",
       "    </tr>\n",
       "    <tr>\n",
       "      <th>4</th>\n",
       "      <td>-0.029633</td>\n",
       "      <td>0.478091</td>\n",
       "      <td>-0.171788</td>\n",
       "      <td>0.368843</td>\n",
       "      <td>0.484115</td>\n",
       "      <td>0.608791</td>\n",
       "    </tr>\n",
       "    <tr>\n",
       "      <th>5</th>\n",
       "      <td>-0.015590</td>\n",
       "      <td>0.176260</td>\n",
       "      <td>0.053735</td>\n",
       "      <td>0.310185</td>\n",
       "      <td>-0.856380</td>\n",
       "      <td>0.369054</td>\n",
       "    </tr>\n",
       "  </tbody>\n",
       "</table>\n",
       "</div>"
      ],
      "text/plain": [
       "          0         1         2         3         4         5\n",
       "0 -0.019699  0.520316 -0.242929 -0.796615 -0.144771  0.119643\n",
       "1 -0.998924 -0.044392  0.004561 -0.007583  0.002377 -0.009771\n",
       "2 -0.013535  0.434206  0.886155 -0.021344  0.077150 -0.140011\n",
       "3 -0.021392  0.528325 -0.351134  0.364186 -0.073009 -0.677613\n",
       "4 -0.029633  0.478091 -0.171788  0.368843  0.484115  0.608791\n",
       "5 -0.015590  0.176260  0.053735  0.310185 -0.856380  0.369054"
      ]
     },
     "execution_count": 11,
     "metadata": {},
     "output_type": "execute_result"
    }
   ],
   "source": [
    "pc = pd.DataFrame(eigen_vectors)\n",
    "pc"
   ]
  },
  {
   "cell_type": "code",
   "execution_count": 12,
   "id": "b095c2e1",
   "metadata": {},
   "outputs": [
    {
     "data": {
      "text/html": [
       "<div>\n",
       "<style scoped>\n",
       "    .dataframe tbody tr th:only-of-type {\n",
       "        vertical-align: middle;\n",
       "    }\n",
       "\n",
       "    .dataframe tbody tr th {\n",
       "        vertical-align: top;\n",
       "    }\n",
       "\n",
       "    .dataframe thead th {\n",
       "        text-align: right;\n",
       "    }\n",
       "</style>\n",
       "<table border=\"1\" class=\"dataframe\">\n",
       "  <thead>\n",
       "    <tr style=\"text-align: right;\">\n",
       "      <th></th>\n",
       "      <th>F1</th>\n",
       "      <th>F2</th>\n",
       "      <th>F3</th>\n",
       "    </tr>\n",
       "  </thead>\n",
       "  <tbody>\n",
       "    <tr>\n",
       "      <th>0</th>\n",
       "      <td>0.01945</td>\n",
       "      <td>0.00878</td>\n",
       "      <td>-0.01718</td>\n",
       "    </tr>\n",
       "    <tr>\n",
       "      <th>1</th>\n",
       "      <td>0.05489</td>\n",
       "      <td>-0.01832</td>\n",
       "      <td>-0.00011</td>\n",
       "    </tr>\n",
       "    <tr>\n",
       "      <th>2</th>\n",
       "      <td>0.02174</td>\n",
       "      <td>-0.05648</td>\n",
       "      <td>0.02258</td>\n",
       "    </tr>\n",
       "    <tr>\n",
       "      <th>3</th>\n",
       "      <td>0.00306</td>\n",
       "      <td>-0.02671</td>\n",
       "      <td>-0.00445</td>\n",
       "    </tr>\n",
       "    <tr>\n",
       "      <th>4</th>\n",
       "      <td>0.05407</td>\n",
       "      <td>-0.06631</td>\n",
       "      <td>-0.01657</td>\n",
       "    </tr>\n",
       "  </tbody>\n",
       "</table>\n",
       "</div>"
      ],
      "text/plain": [
       "        F1       F2       F3\n",
       "0  0.01945  0.00878 -0.01718\n",
       "1  0.05489 -0.01832 -0.00011\n",
       "2  0.02174 -0.05648  0.02258\n",
       "3  0.00306 -0.02671 -0.00445\n",
       "4  0.05407 -0.06631 -0.01657"
      ]
     },
     "execution_count": 12,
     "metadata": {},
     "output_type": "execute_result"
    }
   ],
   "source": [
    "factors = np.matmul(Y , eigen_vectors)\n",
    "factors = pd.DataFrame(factors)\n",
    "factors = factors.iloc[:,0:3]\n",
    "factors.columns = ['F1','F2','F3']\n",
    "f = factors.head().round(5)\n",
    "f"
   ]
  },
  {
   "cell_type": "code",
   "execution_count": 13,
   "id": "d35bf1d4",
   "metadata": {},
   "outputs": [],
   "source": [
    "X = factors.values\n",
    "a = sm.add_constant(X)\n",
    "alph_beta = []\n",
    "R = []"
   ]
  },
  {
   "cell_type": "code",
   "execution_count": 14,
   "id": "ea2057f0",
   "metadata": {},
   "outputs": [],
   "source": [
    "for i in rates.columns:\n",
    "    y = rates[i]\n",
    "    ri = sm.OLS(y, a).fit()\n",
    "    alph_beta.append(ri.params.values)\n",
    "    R.append([ri.rsquared, ri.rsquared_adj])"
   ]
  },
  {
   "cell_type": "code",
   "execution_count": 15,
   "id": "91adbfae",
   "metadata": {},
   "outputs": [
    {
     "data": {
      "text/html": [
       "<div>\n",
       "<style scoped>\n",
       "    .dataframe tbody tr th:only-of-type {\n",
       "        vertical-align: middle;\n",
       "    }\n",
       "\n",
       "    .dataframe tbody tr th {\n",
       "        vertical-align: top;\n",
       "    }\n",
       "\n",
       "    .dataframe thead th {\n",
       "        text-align: right;\n",
       "    }\n",
       "</style>\n",
       "<table border=\"1\" class=\"dataframe\">\n",
       "  <thead>\n",
       "    <tr style=\"text-align: right;\">\n",
       "      <th></th>\n",
       "      <th>alpha</th>\n",
       "      <th>beta_1</th>\n",
       "      <th>beta_2</th>\n",
       "      <th>beta_3</th>\n",
       "    </tr>\n",
       "  </thead>\n",
       "  <tbody>\n",
       "    <tr>\n",
       "      <th>ABG.JO</th>\n",
       "      <td>0.00054</td>\n",
       "      <td>-0.01970</td>\n",
       "      <td>0.52032</td>\n",
       "      <td>-0.24293</td>\n",
       "    </tr>\n",
       "    <tr>\n",
       "      <th>CL=F</th>\n",
       "      <td>-0.00159</td>\n",
       "      <td>-0.99892</td>\n",
       "      <td>-0.04439</td>\n",
       "      <td>0.00456</td>\n",
       "    </tr>\n",
       "    <tr>\n",
       "      <th>CPI.JO</th>\n",
       "      <td>0.00123</td>\n",
       "      <td>-0.01353</td>\n",
       "      <td>0.43421</td>\n",
       "      <td>0.88616</td>\n",
       "    </tr>\n",
       "    <tr>\n",
       "      <th>NED.JO</th>\n",
       "      <td>0.00044</td>\n",
       "      <td>-0.02139</td>\n",
       "      <td>0.52832</td>\n",
       "      <td>-0.35113</td>\n",
       "    </tr>\n",
       "    <tr>\n",
       "      <th>SBK.JO</th>\n",
       "      <td>0.00057</td>\n",
       "      <td>-0.02963</td>\n",
       "      <td>0.47809</td>\n",
       "      <td>-0.17179</td>\n",
       "    </tr>\n",
       "    <tr>\n",
       "      <th>^J203.JO</th>\n",
       "      <td>0.00032</td>\n",
       "      <td>-0.01559</td>\n",
       "      <td>0.17626</td>\n",
       "      <td>0.05374</td>\n",
       "    </tr>\n",
       "  </tbody>\n",
       "</table>\n",
       "</div>"
      ],
      "text/plain": [
       "            alpha   beta_1   beta_2   beta_3\n",
       "ABG.JO    0.00054 -0.01970  0.52032 -0.24293\n",
       "CL=F     -0.00159 -0.99892 -0.04439  0.00456\n",
       "CPI.JO    0.00123 -0.01353  0.43421  0.88616\n",
       "NED.JO    0.00044 -0.02139  0.52832 -0.35113\n",
       "SBK.JO    0.00057 -0.02963  0.47809 -0.17179\n",
       "^J203.JO  0.00032 -0.01559  0.17626  0.05374"
      ]
     },
     "execution_count": 15,
     "metadata": {},
     "output_type": "execute_result"
    }
   ],
   "source": [
    "res = pd.DataFrame(np.array(alph_beta), columns = ['alpha', 'beta_1', 'beta_2', 'beta_3'], index = rates.columns)\n",
    "res.round(5)"
   ]
  },
  {
   "cell_type": "code",
   "execution_count": 16,
   "id": "9b471e26",
   "metadata": {},
   "outputs": [
    {
     "data": {
      "text/html": [
       "<div>\n",
       "<style scoped>\n",
       "    .dataframe tbody tr th:only-of-type {\n",
       "        vertical-align: middle;\n",
       "    }\n",
       "\n",
       "    .dataframe tbody tr th {\n",
       "        vertical-align: top;\n",
       "    }\n",
       "\n",
       "    .dataframe thead th {\n",
       "        text-align: right;\n",
       "    }\n",
       "</style>\n",
       "<table border=\"1\" class=\"dataframe\">\n",
       "  <thead>\n",
       "    <tr style=\"text-align: right;\">\n",
       "      <th></th>\n",
       "      <th>R2</th>\n",
       "      <th>Adj_R2</th>\n",
       "    </tr>\n",
       "  </thead>\n",
       "  <tbody>\n",
       "    <tr>\n",
       "      <th>ABG.JO</th>\n",
       "      <td>0.865</td>\n",
       "      <td>0.865</td>\n",
       "    </tr>\n",
       "    <tr>\n",
       "      <th>CL=F</th>\n",
       "      <td>1.000</td>\n",
       "      <td>1.000</td>\n",
       "    </tr>\n",
       "    <tr>\n",
       "      <th>CPI.JO</th>\n",
       "      <td>0.996</td>\n",
       "      <td>0.996</td>\n",
       "    </tr>\n",
       "    <tr>\n",
       "      <th>NED.JO</th>\n",
       "      <td>0.899</td>\n",
       "      <td>0.899</td>\n",
       "    </tr>\n",
       "    <tr>\n",
       "      <th>SBK.JO</th>\n",
       "      <td>0.859</td>\n",
       "      <td>0.859</td>\n",
       "    </tr>\n",
       "    <tr>\n",
       "      <th>^J203.JO</th>\n",
       "      <td>0.428</td>\n",
       "      <td>0.427</td>\n",
       "    </tr>\n",
       "  </tbody>\n",
       "</table>\n",
       "</div>"
      ],
      "text/plain": [
       "             R2  Adj_R2\n",
       "ABG.JO    0.865   0.865\n",
       "CL=F      1.000   1.000\n",
       "CPI.JO    0.996   0.996\n",
       "NED.JO    0.899   0.899\n",
       "SBK.JO    0.859   0.859\n",
       "^J203.JO  0.428   0.427"
      ]
     },
     "execution_count": 16,
     "metadata": {},
     "output_type": "execute_result"
    }
   ],
   "source": [
    "R = pd.DataFrame(np.array(R), columns = ['R2', 'Adj_R2'], index = rates.columns)\n",
    "R.round(3)"
   ]
  }
 ],
 "metadata": {
  "kernelspec": {
   "display_name": "Python 3",
   "language": "python",
   "name": "python3"
  },
  "language_info": {
   "codemirror_mode": {
    "name": "ipython",
    "version": 3
   },
   "file_extension": ".py",
   "mimetype": "text/x-python",
   "name": "python",
   "nbconvert_exporter": "python",
   "pygments_lexer": "ipython3",
   "version": "3.8.8"
  }
 },
 "nbformat": 4,
 "nbformat_minor": 5
}
